{
  "nbformat": 4,
  "nbformat_minor": 0,
  "metadata": {
    "colab": {
      "provenance": [],
      "collapsed_sections": [
        "4l_Uqc9DuRGU",
        "gQw_pDNzQuy1",
        "pQPw_IIj2eD8"
      ],
      "toc_visible": true,
      "include_colab_link": true
    },
    "kernelspec": {
      "name": "python3",
      "display_name": "Python 3"
    },
    "language_info": {
      "name": "python"
    }
  },
  "cells": [
    {
      "cell_type": "markdown",
      "metadata": {
        "id": "view-in-github",
        "colab_type": "text"
      },
      "source": [
        "<a href=\"https://colab.research.google.com/github/Us9r/starlink-sentiment-analysis/blob/main/starlinkSentimentAnalysis.ipynb\" target=\"_parent\"><img src=\"https://colab.research.google.com/assets/colab-badge.svg\" alt=\"Open In Colab\"/></a>"
      ]
    },
    {
      "cell_type": "markdown",
      "source": [
        "# 1. Data Cleaning\n",
        "import, load dataset dan, pre-processing text"
      ],
      "metadata": {
        "id": "4l_Uqc9DuRGU"
      }
    },
    {
      "cell_type": "markdown",
      "source": [
        "## Import, load"
      ],
      "metadata": {
        "id": "zE3Z9sui1I5C"
      }
    },
    {
      "cell_type": "code",
      "source": [
        "!pip install Sastrawi\n",
        "!pip install googletrans==4.0.0-rc1 httpx>=0.23.0\n",
        "!pip install tqdm\n",
        "!pip install vaderSentiment"
      ],
      "metadata": {
        "colab": {
          "base_uri": "https://localhost:8080/"
        },
        "id": "_8DeFxa-zpuj",
        "outputId": "e1dae225-4179-4786-c52b-d4c3ce43098b"
      },
      "execution_count": 1,
      "outputs": [
        {
          "output_type": "stream",
          "name": "stdout",
          "text": [
            "Collecting Sastrawi\n",
            "  Downloading Sastrawi-1.0.1-py2.py3-none-any.whl.metadata (909 bytes)\n",
            "Downloading Sastrawi-1.0.1-py2.py3-none-any.whl (209 kB)\n",
            "\u001b[?25l   \u001b[90m━━━━━━━━━━━━━━━━━━━━━━━━━━━━━━━━━━━━━━━━\u001b[0m \u001b[32m0.0/209.7 kB\u001b[0m \u001b[31m?\u001b[0m eta \u001b[36m-:--:--\u001b[0m\r\u001b[2K   \u001b[91m━━━━━━━━━━━━━━━━━━━━━━━━━━━━━━━━━━━━━━━\u001b[0m\u001b[90m╺\u001b[0m \u001b[32m204.8/209.7 kB\u001b[0m \u001b[31m5.9 MB/s\u001b[0m eta \u001b[36m0:00:01\u001b[0m\r\u001b[2K   \u001b[90m━━━━━━━━━━━━━━━━━━━━━━━━━━━━━━━━━━━━━━━━\u001b[0m \u001b[32m209.7/209.7 kB\u001b[0m \u001b[31m3.2 MB/s\u001b[0m eta \u001b[36m0:00:00\u001b[0m\n",
            "\u001b[?25hInstalling collected packages: Sastrawi\n",
            "Successfully installed Sastrawi-1.0.1\n",
            "\u001b[31mERROR: pip's dependency resolver does not currently take into account all the packages that are installed. This behaviour is the source of the following dependency conflicts.\n",
            "langsmith 0.3.33 requires httpx<1,>=0.23.0, but you have httpx 0.13.3 which is incompatible.\n",
            "google-genai 1.11.0 requires httpx<1.0.0,>=0.28.1, but you have httpx 0.13.3 which is incompatible.\n",
            "openai 1.75.0 requires httpx<1,>=0.23.0, but you have httpx 0.13.3 which is incompatible.\u001b[0m\u001b[31m\n",
            "\u001b[0mRequirement already satisfied: tqdm in /usr/local/lib/python3.11/dist-packages (4.67.1)\n",
            "Collecting vaderSentiment\n",
            "  Downloading vaderSentiment-3.3.2-py2.py3-none-any.whl.metadata (572 bytes)\n",
            "Requirement already satisfied: requests in /usr/local/lib/python3.11/dist-packages (from vaderSentiment) (2.32.3)\n",
            "Requirement already satisfied: charset-normalizer<4,>=2 in /usr/local/lib/python3.11/dist-packages (from requests->vaderSentiment) (3.4.1)\n",
            "Requirement already satisfied: idna<4,>=2.5 in /usr/local/lib/python3.11/dist-packages (from requests->vaderSentiment) (2.10)\n",
            "Requirement already satisfied: urllib3<3,>=1.21.1 in /usr/local/lib/python3.11/dist-packages (from requests->vaderSentiment) (2.3.0)\n",
            "Requirement already satisfied: certifi>=2017.4.17 in /usr/local/lib/python3.11/dist-packages (from requests->vaderSentiment) (2025.1.31)\n",
            "Downloading vaderSentiment-3.3.2-py2.py3-none-any.whl (125 kB)\n",
            "\u001b[2K   \u001b[90m━━━━━━━━━━━━━━━━━━━━━━━━━━━━━━━━━━━━━━━━\u001b[0m \u001b[32m126.0/126.0 kB\u001b[0m \u001b[31m2.8 MB/s\u001b[0m eta \u001b[36m0:00:00\u001b[0m\n",
            "\u001b[?25hInstalling collected packages: vaderSentiment\n",
            "Successfully installed vaderSentiment-3.3.2\n"
          ]
        }
      ]
    },
    {
      "cell_type": "code",
      "execution_count": 2,
      "metadata": {
        "colab": {
          "base_uri": "https://localhost:8080/"
        },
        "collapsed": true,
        "id": "m5DthqEytU34",
        "outputId": "a4fcfa67-43dd-40ef-8da3-fc721ac48291"
      },
      "outputs": [
        {
          "output_type": "stream",
          "name": "stderr",
          "text": [
            "[nltk_data] Downloading package stopwords to /root/nltk_data...\n",
            "[nltk_data]   Unzipping corpora/stopwords.zip.\n",
            "[nltk_data] Downloading package punkt to /root/nltk_data...\n",
            "[nltk_data]   Unzipping tokenizers/punkt.zip.\n",
            "[nltk_data] Downloading package punkt_tab to /root/nltk_data...\n",
            "[nltk_data]   Unzipping tokenizers/punkt_tab.zip.\n"
          ]
        },
        {
          "output_type": "execute_result",
          "data": {
            "text/plain": [
              "True"
            ]
          },
          "metadata": {},
          "execution_count": 2
        }
      ],
      "source": [
        "import pandas as pd\n",
        "from Sastrawi.Stemmer.StemmerFactory import StemmerFactory\n",
        "import re\n",
        "import string\n",
        "import nltk\n",
        "from nltk.corpus import stopwords\n",
        "from nltk.tokenize import word_tokenize\n",
        "from Sastrawi.StopWordRemover.StopWordRemoverFactory import StopWordRemoverFactory\n",
        "from Sastrawi.StopWordRemover.StopWordRemover import StopWordRemover\n",
        "from Sastrawi.Dictionary.ArrayDictionary import ArrayDictionary\n",
        "from Sastrawi.Stemmer.StemmerFactory import StemmerFactory\n",
        "from googletrans import Translator\n",
        "from tqdm import tqdm\n",
        "\n",
        "nltk.download('stopwords')\n",
        "nltk.download('punkt')\n",
        "nltk.download('punkt_tab')"
      ]
    },
    {
      "cell_type": "code",
      "source": [
        "df = pd.read_csv('https://raw.githubusercontent.com/Us9r/starlink-sentiment-analysis/main/comments_with_replies%20(april).csv')"
      ],
      "metadata": {
        "id": "lFFyijdZt1zZ"
      },
      "execution_count": null,
      "outputs": []
    },
    {
      "cell_type": "code",
      "source": [
        "df.info()"
      ],
      "metadata": {
        "colab": {
          "base_uri": "https://localhost:8080/"
        },
        "collapsed": true,
        "id": "trmkf0N4t6JK",
        "outputId": "8f738fb6-469d-4d70-efb5-8bd74b3d9868"
      },
      "execution_count": null,
      "outputs": [
        {
          "output_type": "stream",
          "name": "stdout",
          "text": [
            "<class 'pandas.core.frame.DataFrame'>\n",
            "RangeIndex: 10857 entries, 0 to 10856\n",
            "Data columns (total 5 columns):\n",
            " #   Column     Non-Null Count  Dtype \n",
            "---  ------     --------------  ----- \n",
            " 0   Timestamp  10857 non-null  object\n",
            " 1   Username   10856 non-null  object\n",
            " 2   VideoID    10857 non-null  object\n",
            " 3   Comment    10857 non-null  object\n",
            " 4   Date       10857 non-null  object\n",
            "dtypes: object(5)\n",
            "memory usage: 424.2+ KB\n"
          ]
        }
      ]
    },
    {
      "cell_type": "code",
      "source": [
        "df_comments = df.copy()\n",
        "df_comments = df_comments[['Username','Comment']]"
      ],
      "metadata": {
        "id": "pCJMdzosuG55"
      },
      "execution_count": null,
      "outputs": []
    },
    {
      "cell_type": "markdown",
      "source": [
        "## Dropna, Drop duplicates"
      ],
      "metadata": {
        "id": "7JF4snY-PhXY"
      }
    },
    {
      "cell_type": "code",
      "source": [
        "df_comments = df_comments.dropna()"
      ],
      "metadata": {
        "id": "fi38YrK01yay"
      },
      "execution_count": null,
      "outputs": []
    },
    {
      "cell_type": "code",
      "source": [
        "df_comments = df_comments.drop_duplicates()"
      ],
      "metadata": {
        "id": "l8YkSPOu2Yv-"
      },
      "execution_count": null,
      "outputs": []
    },
    {
      "cell_type": "code",
      "source": [
        "df_comments.head(3)"
      ],
      "metadata": {
        "colab": {
          "base_uri": "https://localhost:8080/",
          "height": 143
        },
        "id": "kokP5gD-EpPJ",
        "outputId": "a7249544-53a2-41fc-c803-59ebd973da92"
      },
      "execution_count": null,
      "outputs": [
        {
          "output_type": "execute_result",
          "data": {
            "text/plain": [
              "           Username                                            Comment\n",
              "0  @AndreiSurya-n7f          Langkah langkah buat paket internet Gimna\n",
              "1        @Edan27271                 Punya elon musk❎\\nPunya mas David✅\n",
              "2  @littentamba4359  Bng, bs spill powerbengny \\nTrus beli d mn pow..."
            ],
            "text/html": [
              "\n",
              "  <div id=\"df-288c9c59-f7a9-42bb-b613-f6cdccd9e59f\" class=\"colab-df-container\">\n",
              "    <div>\n",
              "<style scoped>\n",
              "    .dataframe tbody tr th:only-of-type {\n",
              "        vertical-align: middle;\n",
              "    }\n",
              "\n",
              "    .dataframe tbody tr th {\n",
              "        vertical-align: top;\n",
              "    }\n",
              "\n",
              "    .dataframe thead th {\n",
              "        text-align: right;\n",
              "    }\n",
              "</style>\n",
              "<table border=\"1\" class=\"dataframe\">\n",
              "  <thead>\n",
              "    <tr style=\"text-align: right;\">\n",
              "      <th></th>\n",
              "      <th>Username</th>\n",
              "      <th>Comment</th>\n",
              "    </tr>\n",
              "  </thead>\n",
              "  <tbody>\n",
              "    <tr>\n",
              "      <th>0</th>\n",
              "      <td>@AndreiSurya-n7f</td>\n",
              "      <td>Langkah langkah buat paket internet Gimna</td>\n",
              "    </tr>\n",
              "    <tr>\n",
              "      <th>1</th>\n",
              "      <td>@Edan27271</td>\n",
              "      <td>Punya elon musk❎\\nPunya mas David✅</td>\n",
              "    </tr>\n",
              "    <tr>\n",
              "      <th>2</th>\n",
              "      <td>@littentamba4359</td>\n",
              "      <td>Bng, bs spill powerbengny \\nTrus beli d mn pow...</td>\n",
              "    </tr>\n",
              "  </tbody>\n",
              "</table>\n",
              "</div>\n",
              "    <div class=\"colab-df-buttons\">\n",
              "\n",
              "  <div class=\"colab-df-container\">\n",
              "    <button class=\"colab-df-convert\" onclick=\"convertToInteractive('df-288c9c59-f7a9-42bb-b613-f6cdccd9e59f')\"\n",
              "            title=\"Convert this dataframe to an interactive table.\"\n",
              "            style=\"display:none;\">\n",
              "\n",
              "  <svg xmlns=\"http://www.w3.org/2000/svg\" height=\"24px\" viewBox=\"0 -960 960 960\">\n",
              "    <path d=\"M120-120v-720h720v720H120Zm60-500h600v-160H180v160Zm220 220h160v-160H400v160Zm0 220h160v-160H400v160ZM180-400h160v-160H180v160Zm440 0h160v-160H620v160ZM180-180h160v-160H180v160Zm440 0h160v-160H620v160Z\"/>\n",
              "  </svg>\n",
              "    </button>\n",
              "\n",
              "  <style>\n",
              "    .colab-df-container {\n",
              "      display:flex;\n",
              "      gap: 12px;\n",
              "    }\n",
              "\n",
              "    .colab-df-convert {\n",
              "      background-color: #E8F0FE;\n",
              "      border: none;\n",
              "      border-radius: 50%;\n",
              "      cursor: pointer;\n",
              "      display: none;\n",
              "      fill: #1967D2;\n",
              "      height: 32px;\n",
              "      padding: 0 0 0 0;\n",
              "      width: 32px;\n",
              "    }\n",
              "\n",
              "    .colab-df-convert:hover {\n",
              "      background-color: #E2EBFA;\n",
              "      box-shadow: 0px 1px 2px rgba(60, 64, 67, 0.3), 0px 1px 3px 1px rgba(60, 64, 67, 0.15);\n",
              "      fill: #174EA6;\n",
              "    }\n",
              "\n",
              "    .colab-df-buttons div {\n",
              "      margin-bottom: 4px;\n",
              "    }\n",
              "\n",
              "    [theme=dark] .colab-df-convert {\n",
              "      background-color: #3B4455;\n",
              "      fill: #D2E3FC;\n",
              "    }\n",
              "\n",
              "    [theme=dark] .colab-df-convert:hover {\n",
              "      background-color: #434B5C;\n",
              "      box-shadow: 0px 1px 3px 1px rgba(0, 0, 0, 0.15);\n",
              "      filter: drop-shadow(0px 1px 2px rgba(0, 0, 0, 0.3));\n",
              "      fill: #FFFFFF;\n",
              "    }\n",
              "  </style>\n",
              "\n",
              "    <script>\n",
              "      const buttonEl =\n",
              "        document.querySelector('#df-288c9c59-f7a9-42bb-b613-f6cdccd9e59f button.colab-df-convert');\n",
              "      buttonEl.style.display =\n",
              "        google.colab.kernel.accessAllowed ? 'block' : 'none';\n",
              "\n",
              "      async function convertToInteractive(key) {\n",
              "        const element = document.querySelector('#df-288c9c59-f7a9-42bb-b613-f6cdccd9e59f');\n",
              "        const dataTable =\n",
              "          await google.colab.kernel.invokeFunction('convertToInteractive',\n",
              "                                                    [key], {});\n",
              "        if (!dataTable) return;\n",
              "\n",
              "        const docLinkHtml = 'Like what you see? Visit the ' +\n",
              "          '<a target=\"_blank\" href=https://colab.research.google.com/notebooks/data_table.ipynb>data table notebook</a>'\n",
              "          + ' to learn more about interactive tables.';\n",
              "        element.innerHTML = '';\n",
              "        dataTable['output_type'] = 'display_data';\n",
              "        await google.colab.output.renderOutput(dataTable, element);\n",
              "        const docLink = document.createElement('div');\n",
              "        docLink.innerHTML = docLinkHtml;\n",
              "        element.appendChild(docLink);\n",
              "      }\n",
              "    </script>\n",
              "  </div>\n",
              "\n",
              "\n",
              "<div id=\"df-1eafcc65-be04-41d9-b520-2861feba2f96\">\n",
              "  <button class=\"colab-df-quickchart\" onclick=\"quickchart('df-1eafcc65-be04-41d9-b520-2861feba2f96')\"\n",
              "            title=\"Suggest charts\"\n",
              "            style=\"display:none;\">\n",
              "\n",
              "<svg xmlns=\"http://www.w3.org/2000/svg\" height=\"24px\"viewBox=\"0 0 24 24\"\n",
              "     width=\"24px\">\n",
              "    <g>\n",
              "        <path d=\"M19 3H5c-1.1 0-2 .9-2 2v14c0 1.1.9 2 2 2h14c1.1 0 2-.9 2-2V5c0-1.1-.9-2-2-2zM9 17H7v-7h2v7zm4 0h-2V7h2v10zm4 0h-2v-4h2v4z\"/>\n",
              "    </g>\n",
              "</svg>\n",
              "  </button>\n",
              "\n",
              "<style>\n",
              "  .colab-df-quickchart {\n",
              "      --bg-color: #E8F0FE;\n",
              "      --fill-color: #1967D2;\n",
              "      --hover-bg-color: #E2EBFA;\n",
              "      --hover-fill-color: #174EA6;\n",
              "      --disabled-fill-color: #AAA;\n",
              "      --disabled-bg-color: #DDD;\n",
              "  }\n",
              "\n",
              "  [theme=dark] .colab-df-quickchart {\n",
              "      --bg-color: #3B4455;\n",
              "      --fill-color: #D2E3FC;\n",
              "      --hover-bg-color: #434B5C;\n",
              "      --hover-fill-color: #FFFFFF;\n",
              "      --disabled-bg-color: #3B4455;\n",
              "      --disabled-fill-color: #666;\n",
              "  }\n",
              "\n",
              "  .colab-df-quickchart {\n",
              "    background-color: var(--bg-color);\n",
              "    border: none;\n",
              "    border-radius: 50%;\n",
              "    cursor: pointer;\n",
              "    display: none;\n",
              "    fill: var(--fill-color);\n",
              "    height: 32px;\n",
              "    padding: 0;\n",
              "    width: 32px;\n",
              "  }\n",
              "\n",
              "  .colab-df-quickchart:hover {\n",
              "    background-color: var(--hover-bg-color);\n",
              "    box-shadow: 0 1px 2px rgba(60, 64, 67, 0.3), 0 1px 3px 1px rgba(60, 64, 67, 0.15);\n",
              "    fill: var(--button-hover-fill-color);\n",
              "  }\n",
              "\n",
              "  .colab-df-quickchart-complete:disabled,\n",
              "  .colab-df-quickchart-complete:disabled:hover {\n",
              "    background-color: var(--disabled-bg-color);\n",
              "    fill: var(--disabled-fill-color);\n",
              "    box-shadow: none;\n",
              "  }\n",
              "\n",
              "  .colab-df-spinner {\n",
              "    border: 2px solid var(--fill-color);\n",
              "    border-color: transparent;\n",
              "    border-bottom-color: var(--fill-color);\n",
              "    animation:\n",
              "      spin 1s steps(1) infinite;\n",
              "  }\n",
              "\n",
              "  @keyframes spin {\n",
              "    0% {\n",
              "      border-color: transparent;\n",
              "      border-bottom-color: var(--fill-color);\n",
              "      border-left-color: var(--fill-color);\n",
              "    }\n",
              "    20% {\n",
              "      border-color: transparent;\n",
              "      border-left-color: var(--fill-color);\n",
              "      border-top-color: var(--fill-color);\n",
              "    }\n",
              "    30% {\n",
              "      border-color: transparent;\n",
              "      border-left-color: var(--fill-color);\n",
              "      border-top-color: var(--fill-color);\n",
              "      border-right-color: var(--fill-color);\n",
              "    }\n",
              "    40% {\n",
              "      border-color: transparent;\n",
              "      border-right-color: var(--fill-color);\n",
              "      border-top-color: var(--fill-color);\n",
              "    }\n",
              "    60% {\n",
              "      border-color: transparent;\n",
              "      border-right-color: var(--fill-color);\n",
              "    }\n",
              "    80% {\n",
              "      border-color: transparent;\n",
              "      border-right-color: var(--fill-color);\n",
              "      border-bottom-color: var(--fill-color);\n",
              "    }\n",
              "    90% {\n",
              "      border-color: transparent;\n",
              "      border-bottom-color: var(--fill-color);\n",
              "    }\n",
              "  }\n",
              "</style>\n",
              "\n",
              "  <script>\n",
              "    async function quickchart(key) {\n",
              "      const quickchartButtonEl =\n",
              "        document.querySelector('#' + key + ' button');\n",
              "      quickchartButtonEl.disabled = true;  // To prevent multiple clicks.\n",
              "      quickchartButtonEl.classList.add('colab-df-spinner');\n",
              "      try {\n",
              "        const charts = await google.colab.kernel.invokeFunction(\n",
              "            'suggestCharts', [key], {});\n",
              "      } catch (error) {\n",
              "        console.error('Error during call to suggestCharts:', error);\n",
              "      }\n",
              "      quickchartButtonEl.classList.remove('colab-df-spinner');\n",
              "      quickchartButtonEl.classList.add('colab-df-quickchart-complete');\n",
              "    }\n",
              "    (() => {\n",
              "      let quickchartButtonEl =\n",
              "        document.querySelector('#df-1eafcc65-be04-41d9-b520-2861feba2f96 button');\n",
              "      quickchartButtonEl.style.display =\n",
              "        google.colab.kernel.accessAllowed ? 'block' : 'none';\n",
              "    })();\n",
              "  </script>\n",
              "</div>\n",
              "\n",
              "    </div>\n",
              "  </div>\n"
            ],
            "application/vnd.google.colaboratory.intrinsic+json": {
              "type": "dataframe",
              "variable_name": "df_comments",
              "summary": "{\n  \"name\": \"df_comments\",\n  \"rows\": 10802,\n  \"fields\": [\n    {\n      \"column\": \"Username\",\n      \"properties\": {\n        \"dtype\": \"string\",\n        \"num_unique_values\": 9596,\n        \"samples\": [\n          \"@Transportmen\",\n          \"@agusputraemassihombing6303\",\n          \"@ALBATROZZ98\"\n        ],\n        \"semantic_type\": \"\",\n        \"description\": \"\"\n      }\n    },\n    {\n      \"column\": \"Comment\",\n      \"properties\": {\n        \"dtype\": \"string\",\n        \"num_unique_values\": 10652,\n        \"samples\": [\n          \"Ya kali gk bisa di akalin.\\nDi bikin kerangkeng/gimana gituch.\",\n          \"tuh klu di dlm rumah gmna yah\",\n          \"Lebih baik pake ini dari pada si indi bulanannya tdk beda jauh\"\n        ],\n        \"semantic_type\": \"\",\n        \"description\": \"\"\n      }\n    }\n  ]\n}"
            }
          },
          "metadata": {},
          "execution_count": 8
        }
      ]
    },
    {
      "cell_type": "markdown",
      "source": [
        "## Case Folding"
      ],
      "metadata": {
        "id": "KWoGrRAQ1PiO"
      }
    },
    {
      "cell_type": "code",
      "source": [
        "# Create stemmer\n",
        "factory = StemmerFactory()\n",
        "stemmer = factory.create_stemmer()\n",
        "\n",
        "def casefolding(text):\n",
        "    text = text.lower()\n",
        "    return text\n",
        "\n",
        "df_comments['Comment'] = df_comments['Comment'].apply(casefolding)"
      ],
      "metadata": {
        "id": "Ci4s14aS1W-a"
      },
      "execution_count": null,
      "outputs": []
    },
    {
      "cell_type": "markdown",
      "source": [
        "## Removal Special Characters\n",
        "\n",
        "Menghapus Angka\n",
        "Menghapus Tanda Baca\n",
        "Menghapus White Space\n",
        "Menggunakan strip() untuk Menghapus Whitespace di Awal dan Akhir\n",
        "Menggunakan replace() untuk Menghapus Whitespace di Seluruh String"
      ],
      "metadata": {
        "id": "tgggZ6Fg3dd8"
      }
    },
    {
      "cell_type": "code",
      "source": [
        "def remove_special_characters(text):\n",
        "    text = re.sub(r'\\d+', '', text)  # Remove numbers\n",
        "    text = text.strip()  # Remove whitespace at the beginning and end\n",
        "    text = text.replace(\" \", \" \") # Remove all whitespace (if you want to replace multiple spaces with a single space)\n",
        "    text = re.sub(r'@[A-Za-z0-9]+', '', text) # menghapus mention dan special characters\n",
        "    text = re.sub(r'#[A-Za-z0-9]+', '', text) # menghapus hashtag\n",
        "    text = re.sub(r'RT[\\s]', '', text) # menghapus RT\n",
        "    text = re.sub(r\"http\\S+\", '', text) # menghapus link\n",
        "    text = re.sub(r'[0-9]+', '', text) # menghapus angka\n",
        "    text = re.sub(r'[^\\w\\s]', '', text) # menghapus karakter selain huruf dan angka\n",
        "\n",
        "    text = text.replace('\\n', ' ') # mengganti baris baru dengan spasi\n",
        "    text = text.translate(str.maketrans('', '', string.punctuation)) # menghapus semua tanda baca\n",
        "    text = text.strip(' ') # menghapus karakter spasi dari kiri dan kanan teks\n",
        "    return text\n",
        "\n",
        "df_comments['Comment'] = df_comments['Comment'].apply(remove_special_characters)"
      ],
      "metadata": {
        "collapsed": true,
        "id": "jEEql8aa3PcP"
      },
      "execution_count": null,
      "outputs": []
    },
    {
      "cell_type": "code",
      "source": [
        "hapus_iklan = [\"cair\", \"anti mangkir\", \"depo\", \"gacor\", \"wede\", \"wd\", \"scatter\", \"rungkat\",\"javaland\",\"s ago\"]\n",
        "\n",
        "# Gabungkan string dengan operator '|' (OR)\n",
        "pola = '|'.join(hapus_iklan)\n",
        "\n",
        "jumlah_baris_dihapus = df_comments['Comment'].str.contains(pola, case=False).sum()\n",
        "jumlah_baris_dihapus"
      ],
      "metadata": {
        "colab": {
          "base_uri": "https://localhost:8080/"
        },
        "id": "ax3wovsi3QnG",
        "outputId": "72c7d751-6e89-40bc-8442-ec7d1be21db6"
      },
      "execution_count": null,
      "outputs": [
        {
          "output_type": "execute_result",
          "data": {
            "text/plain": [
              "np.int64(68)"
            ]
          },
          "metadata": {},
          "execution_count": 11
        }
      ]
    },
    {
      "cell_type": "code",
      "source": [
        "df_comments = df_comments[~df_comments['Comment'].str.contains(pola, case=False)] #menghapus iklan"
      ],
      "metadata": {
        "id": "xEd8CcOZ5jiO"
      },
      "execution_count": null,
      "outputs": []
    },
    {
      "cell_type": "markdown",
      "source": [
        "##  Stopword Removal (Filtering)"
      ],
      "metadata": {
        "id": "tf0Lnuc67zA8"
      }
    },
    {
      "cell_type": "code",
      "source": [
        "from collections import Counter\n",
        "# identifikasi\n",
        "# Gabungkan semua komentar menjadi satu string panjang\n",
        "all_text = ' '.join(df_comments['Comment'].tolist())\n",
        "\n",
        "# Hitung frekuensi kata\n",
        "word_counts = Counter(word_tokenize(all_text))\n",
        "\n",
        "# Tampilkan kata-kata yang paling sering muncul\n",
        "print(word_counts.most_common(20)) # Menampilkan 20 kata teratas"
      ],
      "metadata": {
        "colab": {
          "base_uri": "https://localhost:8080/"
        },
        "id": "hFRDXI-d9len",
        "outputId": "c2cbe213-2afb-49ec-fa1a-730153b430d7"
      },
      "execution_count": null,
      "outputs": [
        {
          "output_type": "stream",
          "name": "stdout",
          "text": [
            "[('di', 3273), ('bisa', 1883), ('bang', 1825), ('starlink', 1654), ('yg', 1651), ('ada', 1447), ('ini', 1433), ('buat', 1347), ('internet', 1110), ('yang', 1106), ('dan', 1061), ('nya', 1051), ('itu', 970), ('ya', 857), ('gak', 833), ('ga', 806), ('untuk', 795), ('kalo', 781), ('ke', 758), ('kalau', 666)]\n"
          ]
        }
      ]
    },
    {
      "cell_type": "code",
      "source": [
        "# Definisikan stopword custom\n",
        "stopword_custom = [\"hadir\", \"first\", \"lah\", \"pertama\",\"ada\", \"ini\",'iya','yaa','nya','na','sih','ku',\"di\",\"ya\",\"loh\",\"kah\",\"woi\",\"woii\",\"woy\",\"p\",\"nihh\",\"s ago\",\"pertamaxx\", \"d\", \"mn\", \"trus\", \"dri\", \"kn\", \"kan\", \"bg\", \"bng\", \"bang\", \"mas\",\"bs\", \"david\", \"brendi\", \"david brendi\", \"yg\", \"yng\", \"yang\", \"nya\", \"ya\", \"y\", \"kalo\", \"aja\", \"sih\",\"bisa\"]\n",
        "\n",
        "# Gabungkan stopword bawaan dan custom\n",
        "stop_words = StopWordRemoverFactory().get_stop_words() + stopword_custom\n",
        "\n",
        "# Buat objek StopWordRemover\n",
        "new_array = ArrayDictionary(stop_words)\n",
        "stop_words_remover_new = StopWordRemover(new_array)\n",
        "\n",
        "# Fungsi untuk menghapus stopwords\n",
        "def stopword(str_text):\n",
        "    str_text = stop_words_remover_new.remove(str_text)\n",
        "    return str_text\n",
        "\n",
        "# Terapkan pada kolom 'Comment'\n",
        "df_comments['Comment_NoStopword'] = df_comments['Comment'].apply(lambda x: stopword(x))"
      ],
      "metadata": {
        "id": "-kdBUU177sxq"
      },
      "execution_count": null,
      "outputs": []
    },
    {
      "cell_type": "code",
      "source": [
        "# Identifikasi dan hapus baris kosong setelah stopword removal\n",
        "df_comments = df_comments[df_comments['Comment'] != '']\n",
        "df_comments = df_comments[df_comments['Comment'].str.strip() != ''] #tambahan untuk menghapus spasi kosong"
      ],
      "metadata": {
        "id": "tZkUm47wLWqn"
      },
      "execution_count": null,
      "outputs": []
    },
    {
      "cell_type": "markdown",
      "source": [
        "## Tokenizing\n",
        "with end result of df_tokenized"
      ],
      "metadata": {
        "id": "vx8JIH7MDcoc"
      }
    },
    {
      "cell_type": "code",
      "source": [
        "def tokenize_text(text):\n",
        "    # Normalisasi kata-kata informal\n",
        "    normalization_dict = {\n",
        "        \"gmna\": \"gimana\",\n",
        "        \"gk\": \"tidak\",\n",
        "        \"gak\": \"tidak\",\n",
        "        \"ga\": \"tidak\",\n",
        "        \"gaa\": \"tidak\",\n",
        "        \"engga\": \"tidak\",\n",
        "        \"kl\": \"mungkin\",\n",
        "        \"klo\": \"mungkin\",\n",
        "        \"hrga\": \"harga\",\n",
        "        \"dpt\": \"dapat\",\n",
        "        \"powerbengny\": \"power bank\",\n",
        "        \"powerbngny\": \"power bank\",\n",
        "        \"powerbankny\": \"power bank\",\n",
        "        \"starbak\": \"starlink\",\n",
        "        \"bs\":\"bisa\"\n",
        "    }\n",
        "\n",
        "    # Tokenisasi dengan split dan normalisasi\n",
        "    tokens = []\n",
        "    for word in text.split():\n",
        "        if word in normalization_dict:\n",
        "            tokens.append(normalization_dict[word])\n",
        "        else:\n",
        "            tokens.append(word)\n",
        "\n",
        "    return tokens\n",
        "\n",
        "df_comments['Comments_Tokens'] = df_comments['Comment_NoStopword'].apply(lambda x: tokenize_text(x))"
      ],
      "metadata": {
        "id": "Vzvs6hFVPRRB"
      },
      "execution_count": null,
      "outputs": []
    },
    {
      "cell_type": "code",
      "source": [
        "df_tokenized = df_comments[df_comments['Comments_Tokens'].map(lambda d: len(d)) > 0]"
      ],
      "metadata": {
        "id": "_qJi1ciunT2K"
      },
      "execution_count": null,
      "outputs": []
    },
    {
      "cell_type": "markdown",
      "source": [
        "#### saving df_tokenized"
      ],
      "metadata": {
        "id": "3jNw3me8oVIX"
      }
    },
    {
      "cell_type": "code",
      "source": [
        "df_tokenized.to_csv('df_tokenized.csv', index=False)"
      ],
      "metadata": {
        "id": "vF3lju98oMA5"
      },
      "execution_count": null,
      "outputs": []
    },
    {
      "cell_type": "markdown",
      "source": [
        "## Stemming\n",
        "Elapsed for 58 minutes to generate df_stemmed"
      ],
      "metadata": {
        "id": "gQw_pDNzQuy1"
      }
    },
    {
      "cell_type": "code",
      "source": [
        "tqdm.pandas() #progress bar\n",
        "\n",
        "def stemming(text_tokens):\n",
        "    factory = StemmerFactory()\n",
        "    stemmer = factory.create_stemmer()\n",
        "    stemmed_tokens = [stemmer.stem(token) for token in text_tokens]\n",
        "    return stemmed_tokens\n",
        "\n",
        "# Terapkan stemming dengan progress bar\n",
        "df_tokenized['Comments_Stemming'] = df_tokenized['Comments_Tokens'].progress_apply(lambda x: stemming(x))"
      ],
      "metadata": {
        "id": "qw4uVuaCPR07",
        "colab": {
          "base_uri": "https://localhost:8080/"
        },
        "outputId": "12085f39-7301-45b6-8b12-09bca33f8abe"
      },
      "execution_count": null,
      "outputs": [
        {
          "output_type": "stream",
          "name": "stderr",
          "text": [
            "100%|██████████| 10604/10604 [58:45<00:00,  3.01it/s]\n",
            "<ipython-input-22-8a4b5a5b07b8>:10: SettingWithCopyWarning: \n",
            "A value is trying to be set on a copy of a slice from a DataFrame.\n",
            "Try using .loc[row_indexer,col_indexer] = value instead\n",
            "\n",
            "See the caveats in the documentation: https://pandas.pydata.org/pandas-docs/stable/user_guide/indexing.html#returning-a-view-versus-a-copy\n",
            "  df_tokenized['Comments_Stemming'] = df_tokenized['Comments_Tokens'].progress_apply(lambda x: stemming(x))\n"
          ]
        }
      ]
    },
    {
      "cell_type": "code",
      "source": [
        "df_stemmed = df_tokenized.copy()\n",
        "df_stemmed.to_csv('df_stemmed.csv', index=False)"
      ],
      "metadata": {
        "id": "t6CnTqrJpVWM"
      },
      "execution_count": null,
      "outputs": []
    },
    {
      "cell_type": "code",
      "source": [
        "df_stemmed.head(3)"
      ],
      "metadata": {
        "colab": {
          "base_uri": "https://localhost:8080/",
          "height": 319
        },
        "collapsed": true,
        "id": "A0AS36d6jlQp",
        "outputId": "2770c20b-449d-485d-b5fa-2fe37084b0e6"
      },
      "execution_count": null,
      "outputs": [
        {
          "output_type": "execute_result",
          "data": {
            "text/plain": [
              "           Username                                            Comment  \\\n",
              "0  @AndreiSurya-n7f          langkah langkah buat paket internet gimna   \n",
              "1        @Edan27271                    punya elon musk punya mas david   \n",
              "2  @littentamba4359  bng bs spill powerbengny  trus beli d mn power...   \n",
              "\n",
              "                                  Comment_NoStopword  \\\n",
              "0          langkah langkah buat paket internet gimna   \n",
              "1                        punya elon musk punya david   \n",
              "2  bs spill powerbengny  beli mn powerbngny bng m...   \n",
              "\n",
              "                                     Comments_Tokens  \\\n",
              "0   [langkah, langkah, buat, paket, internet, gimna]   \n",
              "1                  [punya, elon, musk, punya, david]   \n",
              "2  [bisa, spill, power bank, beli, mn, power bank...   \n",
              "\n",
              "                                   Comments_Stemming  \n",
              "0   [langkah, langkah, buat, paket, internet, gimna]  \n",
              "1                  [punya, elon, musk, punya, david]  \n",
              "2  [bisa, spill, power bank, beli, mn, power bank...  "
            ],
            "text/html": [
              "\n",
              "  <div id=\"df-f94b493c-1907-49d5-9228-736264a3ca93\" class=\"colab-df-container\">\n",
              "    <div>\n",
              "<style scoped>\n",
              "    .dataframe tbody tr th:only-of-type {\n",
              "        vertical-align: middle;\n",
              "    }\n",
              "\n",
              "    .dataframe tbody tr th {\n",
              "        vertical-align: top;\n",
              "    }\n",
              "\n",
              "    .dataframe thead th {\n",
              "        text-align: right;\n",
              "    }\n",
              "</style>\n",
              "<table border=\"1\" class=\"dataframe\">\n",
              "  <thead>\n",
              "    <tr style=\"text-align: right;\">\n",
              "      <th></th>\n",
              "      <th>Username</th>\n",
              "      <th>Comment</th>\n",
              "      <th>Comment_NoStopword</th>\n",
              "      <th>Comments_Tokens</th>\n",
              "      <th>Comments_Stemming</th>\n",
              "    </tr>\n",
              "  </thead>\n",
              "  <tbody>\n",
              "    <tr>\n",
              "      <th>0</th>\n",
              "      <td>@AndreiSurya-n7f</td>\n",
              "      <td>langkah langkah buat paket internet gimna</td>\n",
              "      <td>langkah langkah buat paket internet gimna</td>\n",
              "      <td>[langkah, langkah, buat, paket, internet, gimna]</td>\n",
              "      <td>[langkah, langkah, buat, paket, internet, gimna]</td>\n",
              "    </tr>\n",
              "    <tr>\n",
              "      <th>1</th>\n",
              "      <td>@Edan27271</td>\n",
              "      <td>punya elon musk punya mas david</td>\n",
              "      <td>punya elon musk punya david</td>\n",
              "      <td>[punya, elon, musk, punya, david]</td>\n",
              "      <td>[punya, elon, musk, punya, david]</td>\n",
              "    </tr>\n",
              "    <tr>\n",
              "      <th>2</th>\n",
              "      <td>@littentamba4359</td>\n",
              "      <td>bng bs spill powerbengny  trus beli d mn power...</td>\n",
              "      <td>bs spill powerbengny  beli mn powerbngny bng m...</td>\n",
              "      <td>[bisa, spill, power bank, beli, mn, power bank...</td>\n",
              "      <td>[bisa, spill, power bank, beli, mn, power bank...</td>\n",
              "    </tr>\n",
              "  </tbody>\n",
              "</table>\n",
              "</div>\n",
              "    <div class=\"colab-df-buttons\">\n",
              "\n",
              "  <div class=\"colab-df-container\">\n",
              "    <button class=\"colab-df-convert\" onclick=\"convertToInteractive('df-f94b493c-1907-49d5-9228-736264a3ca93')\"\n",
              "            title=\"Convert this dataframe to an interactive table.\"\n",
              "            style=\"display:none;\">\n",
              "\n",
              "  <svg xmlns=\"http://www.w3.org/2000/svg\" height=\"24px\" viewBox=\"0 -960 960 960\">\n",
              "    <path d=\"M120-120v-720h720v720H120Zm60-500h600v-160H180v160Zm220 220h160v-160H400v160Zm0 220h160v-160H400v160ZM180-400h160v-160H180v160Zm440 0h160v-160H620v160ZM180-180h160v-160H180v160Zm440 0h160v-160H620v160Z\"/>\n",
              "  </svg>\n",
              "    </button>\n",
              "\n",
              "  <style>\n",
              "    .colab-df-container {\n",
              "      display:flex;\n",
              "      gap: 12px;\n",
              "    }\n",
              "\n",
              "    .colab-df-convert {\n",
              "      background-color: #E8F0FE;\n",
              "      border: none;\n",
              "      border-radius: 50%;\n",
              "      cursor: pointer;\n",
              "      display: none;\n",
              "      fill: #1967D2;\n",
              "      height: 32px;\n",
              "      padding: 0 0 0 0;\n",
              "      width: 32px;\n",
              "    }\n",
              "\n",
              "    .colab-df-convert:hover {\n",
              "      background-color: #E2EBFA;\n",
              "      box-shadow: 0px 1px 2px rgba(60, 64, 67, 0.3), 0px 1px 3px 1px rgba(60, 64, 67, 0.15);\n",
              "      fill: #174EA6;\n",
              "    }\n",
              "\n",
              "    .colab-df-buttons div {\n",
              "      margin-bottom: 4px;\n",
              "    }\n",
              "\n",
              "    [theme=dark] .colab-df-convert {\n",
              "      background-color: #3B4455;\n",
              "      fill: #D2E3FC;\n",
              "    }\n",
              "\n",
              "    [theme=dark] .colab-df-convert:hover {\n",
              "      background-color: #434B5C;\n",
              "      box-shadow: 0px 1px 3px 1px rgba(0, 0, 0, 0.15);\n",
              "      filter: drop-shadow(0px 1px 2px rgba(0, 0, 0, 0.3));\n",
              "      fill: #FFFFFF;\n",
              "    }\n",
              "  </style>\n",
              "\n",
              "    <script>\n",
              "      const buttonEl =\n",
              "        document.querySelector('#df-f94b493c-1907-49d5-9228-736264a3ca93 button.colab-df-convert');\n",
              "      buttonEl.style.display =\n",
              "        google.colab.kernel.accessAllowed ? 'block' : 'none';\n",
              "\n",
              "      async function convertToInteractive(key) {\n",
              "        const element = document.querySelector('#df-f94b493c-1907-49d5-9228-736264a3ca93');\n",
              "        const dataTable =\n",
              "          await google.colab.kernel.invokeFunction('convertToInteractive',\n",
              "                                                    [key], {});\n",
              "        if (!dataTable) return;\n",
              "\n",
              "        const docLinkHtml = 'Like what you see? Visit the ' +\n",
              "          '<a target=\"_blank\" href=https://colab.research.google.com/notebooks/data_table.ipynb>data table notebook</a>'\n",
              "          + ' to learn more about interactive tables.';\n",
              "        element.innerHTML = '';\n",
              "        dataTable['output_type'] = 'display_data';\n",
              "        await google.colab.output.renderOutput(dataTable, element);\n",
              "        const docLink = document.createElement('div');\n",
              "        docLink.innerHTML = docLinkHtml;\n",
              "        element.appendChild(docLink);\n",
              "      }\n",
              "    </script>\n",
              "  </div>\n",
              "\n",
              "\n",
              "<div id=\"df-e8544844-3d68-4d1c-beaf-f2d0c6a8d48e\">\n",
              "  <button class=\"colab-df-quickchart\" onclick=\"quickchart('df-e8544844-3d68-4d1c-beaf-f2d0c6a8d48e')\"\n",
              "            title=\"Suggest charts\"\n",
              "            style=\"display:none;\">\n",
              "\n",
              "<svg xmlns=\"http://www.w3.org/2000/svg\" height=\"24px\"viewBox=\"0 0 24 24\"\n",
              "     width=\"24px\">\n",
              "    <g>\n",
              "        <path d=\"M19 3H5c-1.1 0-2 .9-2 2v14c0 1.1.9 2 2 2h14c1.1 0 2-.9 2-2V5c0-1.1-.9-2-2-2zM9 17H7v-7h2v7zm4 0h-2V7h2v10zm4 0h-2v-4h2v4z\"/>\n",
              "    </g>\n",
              "</svg>\n",
              "  </button>\n",
              "\n",
              "<style>\n",
              "  .colab-df-quickchart {\n",
              "      --bg-color: #E8F0FE;\n",
              "      --fill-color: #1967D2;\n",
              "      --hover-bg-color: #E2EBFA;\n",
              "      --hover-fill-color: #174EA6;\n",
              "      --disabled-fill-color: #AAA;\n",
              "      --disabled-bg-color: #DDD;\n",
              "  }\n",
              "\n",
              "  [theme=dark] .colab-df-quickchart {\n",
              "      --bg-color: #3B4455;\n",
              "      --fill-color: #D2E3FC;\n",
              "      --hover-bg-color: #434B5C;\n",
              "      --hover-fill-color: #FFFFFF;\n",
              "      --disabled-bg-color: #3B4455;\n",
              "      --disabled-fill-color: #666;\n",
              "  }\n",
              "\n",
              "  .colab-df-quickchart {\n",
              "    background-color: var(--bg-color);\n",
              "    border: none;\n",
              "    border-radius: 50%;\n",
              "    cursor: pointer;\n",
              "    display: none;\n",
              "    fill: var(--fill-color);\n",
              "    height: 32px;\n",
              "    padding: 0;\n",
              "    width: 32px;\n",
              "  }\n",
              "\n",
              "  .colab-df-quickchart:hover {\n",
              "    background-color: var(--hover-bg-color);\n",
              "    box-shadow: 0 1px 2px rgba(60, 64, 67, 0.3), 0 1px 3px 1px rgba(60, 64, 67, 0.15);\n",
              "    fill: var(--button-hover-fill-color);\n",
              "  }\n",
              "\n",
              "  .colab-df-quickchart-complete:disabled,\n",
              "  .colab-df-quickchart-complete:disabled:hover {\n",
              "    background-color: var(--disabled-bg-color);\n",
              "    fill: var(--disabled-fill-color);\n",
              "    box-shadow: none;\n",
              "  }\n",
              "\n",
              "  .colab-df-spinner {\n",
              "    border: 2px solid var(--fill-color);\n",
              "    border-color: transparent;\n",
              "    border-bottom-color: var(--fill-color);\n",
              "    animation:\n",
              "      spin 1s steps(1) infinite;\n",
              "  }\n",
              "\n",
              "  @keyframes spin {\n",
              "    0% {\n",
              "      border-color: transparent;\n",
              "      border-bottom-color: var(--fill-color);\n",
              "      border-left-color: var(--fill-color);\n",
              "    }\n",
              "    20% {\n",
              "      border-color: transparent;\n",
              "      border-left-color: var(--fill-color);\n",
              "      border-top-color: var(--fill-color);\n",
              "    }\n",
              "    30% {\n",
              "      border-color: transparent;\n",
              "      border-left-color: var(--fill-color);\n",
              "      border-top-color: var(--fill-color);\n",
              "      border-right-color: var(--fill-color);\n",
              "    }\n",
              "    40% {\n",
              "      border-color: transparent;\n",
              "      border-right-color: var(--fill-color);\n",
              "      border-top-color: var(--fill-color);\n",
              "    }\n",
              "    60% {\n",
              "      border-color: transparent;\n",
              "      border-right-color: var(--fill-color);\n",
              "    }\n",
              "    80% {\n",
              "      border-color: transparent;\n",
              "      border-right-color: var(--fill-color);\n",
              "      border-bottom-color: var(--fill-color);\n",
              "    }\n",
              "    90% {\n",
              "      border-color: transparent;\n",
              "      border-bottom-color: var(--fill-color);\n",
              "    }\n",
              "  }\n",
              "</style>\n",
              "\n",
              "  <script>\n",
              "    async function quickchart(key) {\n",
              "      const quickchartButtonEl =\n",
              "        document.querySelector('#' + key + ' button');\n",
              "      quickchartButtonEl.disabled = true;  // To prevent multiple clicks.\n",
              "      quickchartButtonEl.classList.add('colab-df-spinner');\n",
              "      try {\n",
              "        const charts = await google.colab.kernel.invokeFunction(\n",
              "            'suggestCharts', [key], {});\n",
              "      } catch (error) {\n",
              "        console.error('Error during call to suggestCharts:', error);\n",
              "      }\n",
              "      quickchartButtonEl.classList.remove('colab-df-spinner');\n",
              "      quickchartButtonEl.classList.add('colab-df-quickchart-complete');\n",
              "    }\n",
              "    (() => {\n",
              "      let quickchartButtonEl =\n",
              "        document.querySelector('#df-e8544844-3d68-4d1c-beaf-f2d0c6a8d48e button');\n",
              "      quickchartButtonEl.style.display =\n",
              "        google.colab.kernel.accessAllowed ? 'block' : 'none';\n",
              "    })();\n",
              "  </script>\n",
              "</div>\n",
              "\n",
              "    </div>\n",
              "  </div>\n"
            ],
            "application/vnd.google.colaboratory.intrinsic+json": {
              "type": "dataframe",
              "variable_name": "df_stemmed",
              "summary": "{\n  \"name\": \"df_stemmed\",\n  \"rows\": 10604,\n  \"fields\": [\n    {\n      \"column\": \"Username\",\n      \"properties\": {\n        \"dtype\": \"string\",\n        \"num_unique_values\": 9436,\n        \"samples\": [\n          \"@brightlyvirya7500\",\n          \"@alfaqirila_rahmati_rabbih1280\",\n          \"@strzdkiddo\"\n        ],\n        \"semantic_type\": \"\",\n        \"description\": \"\"\n      }\n    },\n    {\n      \"column\": \"Comment\",\n      \"properties\": {\n        \"dtype\": \"string\",\n        \"num_unique_values\": 10336,\n        \"samples\": [\n          \"telkomsel gak bisa tidur\",\n          \"cocok unt luar pulau unt mencegah proyek pemerintah dikorupsi\",\n          \"kurang worth kalo di jakarta starlink worth nya di tempat tempat susah sinyal  jauh dari mana mana\"\n        ],\n        \"semantic_type\": \"\",\n        \"description\": \"\"\n      }\n    },\n    {\n      \"column\": \"Comment_NoStopword\",\n      \"properties\": {\n        \"dtype\": \"string\",\n        \"num_unique_values\": 10253,\n        \"samples\": [\n          \"info powerbanknya\",\n          \"kaum elit di desa\",\n          \"pake extender bakal ban gak yah\"\n        ],\n        \"semantic_type\": \"\",\n        \"description\": \"\"\n      }\n    },\n    {\n      \"column\": \"Comments_Tokens\",\n      \"properties\": {\n        \"dtype\": \"object\",\n        \"semantic_type\": \"\",\n        \"description\": \"\"\n      }\n    },\n    {\n      \"column\": \"Comments_Stemming\",\n      \"properties\": {\n        \"dtype\": \"object\",\n        \"semantic_type\": \"\",\n        \"description\": \"\"\n      }\n    }\n  ]\n}"
            }
          },
          "metadata": {},
          "execution_count": 31
        }
      ]
    },
    {
      "cell_type": "markdown",
      "source": [
        "## Translating\n",
        "Elapsed For 2 Hours 13 minutes to generate df_translated"
      ],
      "metadata": {
        "id": "pQPw_IIj2eD8"
      }
    },
    {
      "cell_type": "code",
      "source": [
        "# jika diperlukan\n",
        "df_stemmed = pd.read_csv('df_stemmed.csv')\n",
        "df_stemmed = df_stemmed['Comments_Stemming']"
      ],
      "metadata": {
        "colab": {
          "base_uri": "https://localhost:8080/",
          "height": 53
        },
        "id": "gkc9RUz22pGY",
        "outputId": "0f854005-d672-4fea-8c88-284668754d4f"
      },
      "execution_count": null,
      "outputs": [
        {
          "output_type": "execute_result",
          "data": {
            "text/plain": [
              "\"\\njika diperlukan\\ndf_stemmed = pd.read_csv('df_stemmed.csv')\\ndf_stemmed = df_stemmed['Comments_Stemming']\\n\""
            ],
            "application/vnd.google.colaboratory.intrinsic+json": {
              "type": "string"
            }
          },
          "metadata": {},
          "execution_count": 27
        }
      ]
    },
    {
      "cell_type": "code",
      "source": [
        "translator = Translator()\n",
        "\n",
        "def translate_comment(comment_tokens):\n",
        "    try:\n",
        "        # Gabungkan token menjadi satu string sebelum diterjemahkan\n",
        "        comment_text = \" \".join(comment_tokens)\n",
        "        translation = translator.translate(comment_text, dest='en').text\n",
        "        return translation\n",
        "    except Exception as e:\n",
        "        print(f\"Translation error for comment '{comment_text}': {e}\")\n",
        "        return comment_text\n",
        "\n",
        "# Terapkan terjemahan pada kolom 'Comments_Stemming' di df_stemmed\n",
        "df_stemmed['Translated_Comment'] = df_stemmed['Comments_Stemming'].progress_apply(translate_comment)\n",
        "\n",
        "# Simpan hasil terjemahan di df_translated\n",
        "df_translated = df_stemmed[['Translated_Comment']].copy()"
      ],
      "metadata": {
        "id": "ZAOvI4JXT1AM",
        "colab": {
          "base_uri": "https://localhost:8080/"
        },
        "collapsed": true,
        "outputId": "89e11ba4-8bf5-4f96-fdbe-c52b9fd6ac2c"
      },
      "execution_count": null,
      "outputs": [
        {
          "metadata": {
            "tags": null
          },
          "name": "stderr",
          "output_type": "stream",
          "text": [
            "  3%|▎         | 324/10604 [04:05<1:05:08,  2.63it/s]"
          ]
        },
        {
          "metadata": {
            "tags": null
          },
          "name": "stdout",
          "output_type": "stream",
          "text": [
            "Translation error for comment 'rada kurang masih lumayan speedny': the JSON object must be str, bytes or bytearray, not NoneType\n",
            "Translation error for comment 'serius nanya kalau bawa traveling guna pesawat kah bawa': the JSON object must be str, bytes or bytearray, not NoneType\n"
          ]
        },
        {
          "output_type": "stream",
          "name": "stderr",
          "text": [
            " 36%|███▌      | 3831/10604 [48:28<1:37:33,  1.16it/s]"
          ]
        },
        {
          "output_type": "stream",
          "name": "stdout",
          "text": [
            "Translation error for comment '   ': sequence item 0: expected str instance, NoneType found\n"
          ]
        },
        {
          "output_type": "stream",
          "name": "stderr",
          "text": [
            " 61%|██████    | 6490/10604 [1:22:02<30:13,  2.27it/s]"
          ]
        },
        {
          "output_type": "stream",
          "name": "stdout",
          "text": [
            "Translation error for comment 'kalau orang kaya tinggal pelosok tidak internet fiber sinyal semua operator edge perangkat sangat cocok buat': the JSON object must be str, bytes or bytearray, not NoneType\n",
            "Translation error for comment 'tidak cocok duit': the JSON object must be str, bytes or bytearray, not NoneType\n"
          ]
        },
        {
          "output_type": "stream",
          "name": "stderr",
          "text": [
            " 92%|█████████▏| 9754/10604 [2:03:47<07:25,  1.91it/s]"
          ]
        },
        {
          "output_type": "stream",
          "name": "stdout",
          "text": [
            "Translation error for comment 'kayak operator kuasa diindo tidak bakal diam deh entah nuntut harga paket starlink dinaikin apa': the JSON object must be str, bytes or bytearray, not NoneType\n"
          ]
        },
        {
          "output_type": "stream",
          "name": "stderr",
          "text": [
            "100%|██████████| 10604/10604 [2:13:57<00:00,  1.32it/s]\n"
          ]
        }
      ]
    },
    {
      "cell_type": "markdown",
      "source": [
        "#2. Vader Sentiment Analysis\n",
        "Sentimen Keseluruhan Positif: Nilai Overall Sentiment adalah \"Positive\", yang menandakan bahwa sentimen positif mendominasi dalam kumpulan data komentar yang dianalisis.\n",
        "\n",
        "> * 'Overall Sentiment': 'Positive',\n",
        "> * 'Positive Count': 3342,\n",
        "> * 'Negative Count': 1703,\n",
        "> * 'Neutral Count': 5558,\n",
        "> * 'Positive Percentage': 31.519381307177213,\n",
        "> * 'Negative Percentage': 16.06149203055739,\n",
        "> * 'Neutral Percentage': 52.41912666226539}"
      ],
      "metadata": {
        "id": "efKYdrsccTgt"
      }
    },
    {
      "cell_type": "code",
      "source": [
        "# jika diperlukan\n",
        "df_translated = pd.read_csv('https://raw.githubusercontent.com/Us9r/starlink-sentiment-analysis/main/df_translated.csv')"
      ],
      "metadata": {
        "id": "XlXduOyYXQAB"
      },
      "execution_count": 5,
      "outputs": []
    },
    {
      "cell_type": "markdown",
      "source": [
        "Hapus sisa eror translation"
      ],
      "metadata": {
        "id": "T5B9nrV0cDh_"
      }
    },
    {
      "cell_type": "code",
      "source": [
        "error_values = [\n",
        "    'rada kurang masih lumayan speedny',\n",
        "    'serius nanya kalau bawa traveling guna pesawat kah bawa',\n",
        "    '   ',\n",
        "    'kalau orang kaya tinggal pelosok tidak internet fiber sinyal semua operator edge perangkat sangat cocok buat',\n",
        "    'tidak cocok duit',\n",
        "    'kayak operator kuasa diindo tidak bakal diam deh entah nuntut harga paket starlink dinaikin apa'\n",
        "]\n",
        "\n",
        "# Filter rows containing error values in 'Comments_Stemming' column\n",
        "filtered_df = df_translated[~df_translated['Translated_Comment'].apply(lambda x: any(val in x for val in error_values))]"
      ],
      "metadata": {
        "id": "JkUBVLd_a5mg"
      },
      "execution_count": 6,
      "outputs": []
    },
    {
      "cell_type": "markdown",
      "source": [
        "## Labeling"
      ],
      "metadata": {
        "id": "saZ1A-zVjPnF"
      }
    },
    {
      "cell_type": "code",
      "source": [
        "from vaderSentiment.vaderSentiment import SentimentIntensityAnalyzer\n",
        "\n",
        "tqdm.pandas()\n",
        "\n",
        "analyzer = SentimentIntensityAnalyzer()\n",
        "\n",
        "def analyze_sentiment(text):\n",
        "    scores = analyzer.polarity_scores(text)\n",
        "    return scores\n",
        "\n",
        "df_translated['Sentiment_Scores'] = df_translated['Translated_Comment'].progress_apply(analyze_sentiment)"
      ],
      "metadata": {
        "colab": {
          "base_uri": "https://localhost:8080/"
        },
        "id": "cye8n85DclPZ",
        "outputId": "ef846e70-1c58-4dcc-973b-e59f95c842ec"
      },
      "execution_count": 7,
      "outputs": [
        {
          "output_type": "stream",
          "name": "stderr",
          "text": [
            "100%|██████████| 10603/10603 [00:01<00:00, 7722.06it/s]\n"
          ]
        }
      ]
    },
    {
      "cell_type": "markdown",
      "source": [
        "## Dividing result into each collumn"
      ],
      "metadata": {
        "id": "H8BI3Omfjy2a"
      }
    },
    {
      "cell_type": "code",
      "source": [
        "df_translated = pd.concat([df_translated.drop(['Sentiment_Scores'], axis=1), df_translated['Sentiment_Scores'].apply(pd.Series)], axis=1)"
      ],
      "metadata": {
        "id": "8xVZvdLEef9A"
      },
      "execution_count": 8,
      "outputs": []
    },
    {
      "cell_type": "code",
      "source": [
        "def analyze_sentiment_results(df_translated):\n",
        "    # Add a new column 'Sentiment' to store the sentiment labels\n",
        "    df_sentiment = df_translated.copy()\n",
        "    df_sentiment['Sentiment'] = ''\n",
        "\n",
        "    # Apply sentiment classification based on 'compound' score\n",
        "    df_sentiment.loc[df_sentiment['compound'] >= 0.05, 'Sentiment'] = 'Positive'\n",
        "    df_sentiment.loc[df_sentiment['compound'] <= -0.05, 'Sentiment'] = 'Negative'\n",
        "    df_sentiment.loc[df_sentiment['compound'].between(-0.05, 0.05), 'Sentiment'] = 'Neutral'\n",
        "\n",
        "    # Calculate the overall sentiment\n",
        "    overall_sentiment = 'Neutral'\n",
        "    if df_sentiment['compound'].mean() >= 0.05: # Changed df_translated to df_sentiment\n",
        "        overall_sentiment = 'Positive'\n",
        "    elif df_sentiment['compound'].mean() <= -0.05: # Changed df_translated to df_sentiment\n",
        "        overall_sentiment = 'Negative'\n",
        "\n",
        "    # Count the number of positive, negative, and neutral sentiments\n",
        "    positive_count = df_sentiment[df_sentiment['Sentiment'] == 'Positive'].shape[0] # Changed df_translated to df_sentiment\n",
        "    negative_count = df_sentiment[df_sentiment['Sentiment'] == 'Negative'].shape[0] # Changed df_translated to df_sentiment\n",
        "    neutral_count = df_sentiment[df_sentiment['Sentiment'] == 'Neutral'].shape[0] # Changed df_translated to df_sentiment\n",
        "\n",
        "    # Calculate percentages\n",
        "    total_count = df_sentiment.shape[0] # Changed df_translated to df_sentiment\n",
        "    positive_percentage = (positive_count / total_count) * 100 if total_count > 0 else 0\n",
        "    negative_percentage = (negative_count / total_count) * 100 if total_count > 0 else 0\n",
        "    neutral_percentage = (neutral_count / total_count) * 100 if total_count > 0 else 0\n",
        "\n",
        "    analysis = {\n",
        "        'Overall Sentiment': overall_sentiment,\n",
        "        'Positive Count': positive_count,\n",
        "        'Negative Count': negative_count,\n",
        "        'Neutral Count': neutral_count,\n",
        "        'Positive Percentage': positive_percentage,\n",
        "        'Negative Percentage': negative_percentage,\n",
        "        'Neutral Percentage': neutral_percentage,\n",
        "    }\n",
        "\n",
        "    return analysis, df_sentiment  # Return both the analysis and the updated DataFrame\n",
        "\n",
        "analysis_results, df_sentiment = analyze_sentiment_results(df_translated)"
      ],
      "metadata": {
        "id": "m2Qk2laydiPQ"
      },
      "execution_count": 9,
      "outputs": []
    },
    {
      "cell_type": "code",
      "source": [
        "df_sentiment"
      ],
      "metadata": {
        "colab": {
          "base_uri": "https://localhost:8080/",
          "height": 441
        },
        "id": "9fARcBZLhMEU",
        "outputId": "1961b527-eedd-49d9-a52a-62f429276221"
      },
      "execution_count": 10,
      "outputs": [
        {
          "output_type": "execute_result",
          "data": {
            "text/plain": [
              "                                      Translated_Comment    neg    neu    pos  \\\n",
              "0                 steps to make a gimna internet package  0.000  1.000  0.000   \n",
              "1                               Have Elon Musk Has David  0.000  1.000  0.000   \n",
              "2      Can Spill Power Bank Buy Mn Power Bank BNG Mn ...  0.000  1.000  0.000   \n",
              "3                                        Pay which month  0.412  0.588  0.000   \n",
              "4                              at the same time WiFi how  0.000  1.000  0.000   \n",
              "...                                                  ...    ...    ...    ...   \n",
              "10598                                         greeted me  0.000  0.323  0.677   \n",
              "10599                                                nih  0.000  1.000  0.000   \n",
              "10600                number one electoral district ddddd  0.000  0.755  0.245   \n",
              "10601                                   Stralink kelling  0.000  1.000  0.000   \n",
              "10602                                               nihh  0.000  1.000  0.000   \n",
              "\n",
              "       compound Sentiment  \n",
              "0        0.0000   Neutral  \n",
              "1        0.0000   Neutral  \n",
              "2        0.0000   Neutral  \n",
              "3       -0.1027  Negative  \n",
              "4        0.0000   Neutral  \n",
              "...         ...       ...  \n",
              "10598    0.2732  Positive  \n",
              "10599    0.0000   Neutral  \n",
              "10600    0.0772  Positive  \n",
              "10601    0.0000   Neutral  \n",
              "10602    0.0000   Neutral  \n",
              "\n",
              "[10603 rows x 6 columns]"
            ],
            "text/html": [
              "\n",
              "  <div id=\"df-f1c7c40a-0eb3-43ab-a057-cde32da486dd\" class=\"colab-df-container\">\n",
              "    <div>\n",
              "<style scoped>\n",
              "    .dataframe tbody tr th:only-of-type {\n",
              "        vertical-align: middle;\n",
              "    }\n",
              "\n",
              "    .dataframe tbody tr th {\n",
              "        vertical-align: top;\n",
              "    }\n",
              "\n",
              "    .dataframe thead th {\n",
              "        text-align: right;\n",
              "    }\n",
              "</style>\n",
              "<table border=\"1\" class=\"dataframe\">\n",
              "  <thead>\n",
              "    <tr style=\"text-align: right;\">\n",
              "      <th></th>\n",
              "      <th>Translated_Comment</th>\n",
              "      <th>neg</th>\n",
              "      <th>neu</th>\n",
              "      <th>pos</th>\n",
              "      <th>compound</th>\n",
              "      <th>Sentiment</th>\n",
              "    </tr>\n",
              "  </thead>\n",
              "  <tbody>\n",
              "    <tr>\n",
              "      <th>0</th>\n",
              "      <td>steps to make a gimna internet package</td>\n",
              "      <td>0.000</td>\n",
              "      <td>1.000</td>\n",
              "      <td>0.000</td>\n",
              "      <td>0.0000</td>\n",
              "      <td>Neutral</td>\n",
              "    </tr>\n",
              "    <tr>\n",
              "      <th>1</th>\n",
              "      <td>Have Elon Musk Has David</td>\n",
              "      <td>0.000</td>\n",
              "      <td>1.000</td>\n",
              "      <td>0.000</td>\n",
              "      <td>0.0000</td>\n",
              "      <td>Neutral</td>\n",
              "    </tr>\n",
              "    <tr>\n",
              "      <th>2</th>\n",
              "      <td>Can Spill Power Bank Buy Mn Power Bank BNG Mn ...</td>\n",
              "      <td>0.000</td>\n",
              "      <td>1.000</td>\n",
              "      <td>0.000</td>\n",
              "      <td>0.0000</td>\n",
              "      <td>Neutral</td>\n",
              "    </tr>\n",
              "    <tr>\n",
              "      <th>3</th>\n",
              "      <td>Pay which month</td>\n",
              "      <td>0.412</td>\n",
              "      <td>0.588</td>\n",
              "      <td>0.000</td>\n",
              "      <td>-0.1027</td>\n",
              "      <td>Negative</td>\n",
              "    </tr>\n",
              "    <tr>\n",
              "      <th>4</th>\n",
              "      <td>at the same time WiFi how</td>\n",
              "      <td>0.000</td>\n",
              "      <td>1.000</td>\n",
              "      <td>0.000</td>\n",
              "      <td>0.0000</td>\n",
              "      <td>Neutral</td>\n",
              "    </tr>\n",
              "    <tr>\n",
              "      <th>...</th>\n",
              "      <td>...</td>\n",
              "      <td>...</td>\n",
              "      <td>...</td>\n",
              "      <td>...</td>\n",
              "      <td>...</td>\n",
              "      <td>...</td>\n",
              "    </tr>\n",
              "    <tr>\n",
              "      <th>10598</th>\n",
              "      <td>greeted me</td>\n",
              "      <td>0.000</td>\n",
              "      <td>0.323</td>\n",
              "      <td>0.677</td>\n",
              "      <td>0.2732</td>\n",
              "      <td>Positive</td>\n",
              "    </tr>\n",
              "    <tr>\n",
              "      <th>10599</th>\n",
              "      <td>nih</td>\n",
              "      <td>0.000</td>\n",
              "      <td>1.000</td>\n",
              "      <td>0.000</td>\n",
              "      <td>0.0000</td>\n",
              "      <td>Neutral</td>\n",
              "    </tr>\n",
              "    <tr>\n",
              "      <th>10600</th>\n",
              "      <td>number one electoral district ddddd</td>\n",
              "      <td>0.000</td>\n",
              "      <td>0.755</td>\n",
              "      <td>0.245</td>\n",
              "      <td>0.0772</td>\n",
              "      <td>Positive</td>\n",
              "    </tr>\n",
              "    <tr>\n",
              "      <th>10601</th>\n",
              "      <td>Stralink kelling</td>\n",
              "      <td>0.000</td>\n",
              "      <td>1.000</td>\n",
              "      <td>0.000</td>\n",
              "      <td>0.0000</td>\n",
              "      <td>Neutral</td>\n",
              "    </tr>\n",
              "    <tr>\n",
              "      <th>10602</th>\n",
              "      <td>nihh</td>\n",
              "      <td>0.000</td>\n",
              "      <td>1.000</td>\n",
              "      <td>0.000</td>\n",
              "      <td>0.0000</td>\n",
              "      <td>Neutral</td>\n",
              "    </tr>\n",
              "  </tbody>\n",
              "</table>\n",
              "<p>10603 rows × 6 columns</p>\n",
              "</div>\n",
              "    <div class=\"colab-df-buttons\">\n",
              "\n",
              "  <div class=\"colab-df-container\">\n",
              "    <button class=\"colab-df-convert\" onclick=\"convertToInteractive('df-f1c7c40a-0eb3-43ab-a057-cde32da486dd')\"\n",
              "            title=\"Convert this dataframe to an interactive table.\"\n",
              "            style=\"display:none;\">\n",
              "\n",
              "  <svg xmlns=\"http://www.w3.org/2000/svg\" height=\"24px\" viewBox=\"0 -960 960 960\">\n",
              "    <path d=\"M120-120v-720h720v720H120Zm60-500h600v-160H180v160Zm220 220h160v-160H400v160Zm0 220h160v-160H400v160ZM180-400h160v-160H180v160Zm440 0h160v-160H620v160ZM180-180h160v-160H180v160Zm440 0h160v-160H620v160Z\"/>\n",
              "  </svg>\n",
              "    </button>\n",
              "\n",
              "  <style>\n",
              "    .colab-df-container {\n",
              "      display:flex;\n",
              "      gap: 12px;\n",
              "    }\n",
              "\n",
              "    .colab-df-convert {\n",
              "      background-color: #E8F0FE;\n",
              "      border: none;\n",
              "      border-radius: 50%;\n",
              "      cursor: pointer;\n",
              "      display: none;\n",
              "      fill: #1967D2;\n",
              "      height: 32px;\n",
              "      padding: 0 0 0 0;\n",
              "      width: 32px;\n",
              "    }\n",
              "\n",
              "    .colab-df-convert:hover {\n",
              "      background-color: #E2EBFA;\n",
              "      box-shadow: 0px 1px 2px rgba(60, 64, 67, 0.3), 0px 1px 3px 1px rgba(60, 64, 67, 0.15);\n",
              "      fill: #174EA6;\n",
              "    }\n",
              "\n",
              "    .colab-df-buttons div {\n",
              "      margin-bottom: 4px;\n",
              "    }\n",
              "\n",
              "    [theme=dark] .colab-df-convert {\n",
              "      background-color: #3B4455;\n",
              "      fill: #D2E3FC;\n",
              "    }\n",
              "\n",
              "    [theme=dark] .colab-df-convert:hover {\n",
              "      background-color: #434B5C;\n",
              "      box-shadow: 0px 1px 3px 1px rgba(0, 0, 0, 0.15);\n",
              "      filter: drop-shadow(0px 1px 2px rgba(0, 0, 0, 0.3));\n",
              "      fill: #FFFFFF;\n",
              "    }\n",
              "  </style>\n",
              "\n",
              "    <script>\n",
              "      const buttonEl =\n",
              "        document.querySelector('#df-f1c7c40a-0eb3-43ab-a057-cde32da486dd button.colab-df-convert');\n",
              "      buttonEl.style.display =\n",
              "        google.colab.kernel.accessAllowed ? 'block' : 'none';\n",
              "\n",
              "      async function convertToInteractive(key) {\n",
              "        const element = document.querySelector('#df-f1c7c40a-0eb3-43ab-a057-cde32da486dd');\n",
              "        const dataTable =\n",
              "          await google.colab.kernel.invokeFunction('convertToInteractive',\n",
              "                                                    [key], {});\n",
              "        if (!dataTable) return;\n",
              "\n",
              "        const docLinkHtml = 'Like what you see? Visit the ' +\n",
              "          '<a target=\"_blank\" href=https://colab.research.google.com/notebooks/data_table.ipynb>data table notebook</a>'\n",
              "          + ' to learn more about interactive tables.';\n",
              "        element.innerHTML = '';\n",
              "        dataTable['output_type'] = 'display_data';\n",
              "        await google.colab.output.renderOutput(dataTable, element);\n",
              "        const docLink = document.createElement('div');\n",
              "        docLink.innerHTML = docLinkHtml;\n",
              "        element.appendChild(docLink);\n",
              "      }\n",
              "    </script>\n",
              "  </div>\n",
              "\n",
              "\n",
              "<div id=\"df-58d99efa-0068-41f7-83fb-62ee208d4a4b\">\n",
              "  <button class=\"colab-df-quickchart\" onclick=\"quickchart('df-58d99efa-0068-41f7-83fb-62ee208d4a4b')\"\n",
              "            title=\"Suggest charts\"\n",
              "            style=\"display:none;\">\n",
              "\n",
              "<svg xmlns=\"http://www.w3.org/2000/svg\" height=\"24px\"viewBox=\"0 0 24 24\"\n",
              "     width=\"24px\">\n",
              "    <g>\n",
              "        <path d=\"M19 3H5c-1.1 0-2 .9-2 2v14c0 1.1.9 2 2 2h14c1.1 0 2-.9 2-2V5c0-1.1-.9-2-2-2zM9 17H7v-7h2v7zm4 0h-2V7h2v10zm4 0h-2v-4h2v4z\"/>\n",
              "    </g>\n",
              "</svg>\n",
              "  </button>\n",
              "\n",
              "<style>\n",
              "  .colab-df-quickchart {\n",
              "      --bg-color: #E8F0FE;\n",
              "      --fill-color: #1967D2;\n",
              "      --hover-bg-color: #E2EBFA;\n",
              "      --hover-fill-color: #174EA6;\n",
              "      --disabled-fill-color: #AAA;\n",
              "      --disabled-bg-color: #DDD;\n",
              "  }\n",
              "\n",
              "  [theme=dark] .colab-df-quickchart {\n",
              "      --bg-color: #3B4455;\n",
              "      --fill-color: #D2E3FC;\n",
              "      --hover-bg-color: #434B5C;\n",
              "      --hover-fill-color: #FFFFFF;\n",
              "      --disabled-bg-color: #3B4455;\n",
              "      --disabled-fill-color: #666;\n",
              "  }\n",
              "\n",
              "  .colab-df-quickchart {\n",
              "    background-color: var(--bg-color);\n",
              "    border: none;\n",
              "    border-radius: 50%;\n",
              "    cursor: pointer;\n",
              "    display: none;\n",
              "    fill: var(--fill-color);\n",
              "    height: 32px;\n",
              "    padding: 0;\n",
              "    width: 32px;\n",
              "  }\n",
              "\n",
              "  .colab-df-quickchart:hover {\n",
              "    background-color: var(--hover-bg-color);\n",
              "    box-shadow: 0 1px 2px rgba(60, 64, 67, 0.3), 0 1px 3px 1px rgba(60, 64, 67, 0.15);\n",
              "    fill: var(--button-hover-fill-color);\n",
              "  }\n",
              "\n",
              "  .colab-df-quickchart-complete:disabled,\n",
              "  .colab-df-quickchart-complete:disabled:hover {\n",
              "    background-color: var(--disabled-bg-color);\n",
              "    fill: var(--disabled-fill-color);\n",
              "    box-shadow: none;\n",
              "  }\n",
              "\n",
              "  .colab-df-spinner {\n",
              "    border: 2px solid var(--fill-color);\n",
              "    border-color: transparent;\n",
              "    border-bottom-color: var(--fill-color);\n",
              "    animation:\n",
              "      spin 1s steps(1) infinite;\n",
              "  }\n",
              "\n",
              "  @keyframes spin {\n",
              "    0% {\n",
              "      border-color: transparent;\n",
              "      border-bottom-color: var(--fill-color);\n",
              "      border-left-color: var(--fill-color);\n",
              "    }\n",
              "    20% {\n",
              "      border-color: transparent;\n",
              "      border-left-color: var(--fill-color);\n",
              "      border-top-color: var(--fill-color);\n",
              "    }\n",
              "    30% {\n",
              "      border-color: transparent;\n",
              "      border-left-color: var(--fill-color);\n",
              "      border-top-color: var(--fill-color);\n",
              "      border-right-color: var(--fill-color);\n",
              "    }\n",
              "    40% {\n",
              "      border-color: transparent;\n",
              "      border-right-color: var(--fill-color);\n",
              "      border-top-color: var(--fill-color);\n",
              "    }\n",
              "    60% {\n",
              "      border-color: transparent;\n",
              "      border-right-color: var(--fill-color);\n",
              "    }\n",
              "    80% {\n",
              "      border-color: transparent;\n",
              "      border-right-color: var(--fill-color);\n",
              "      border-bottom-color: var(--fill-color);\n",
              "    }\n",
              "    90% {\n",
              "      border-color: transparent;\n",
              "      border-bottom-color: var(--fill-color);\n",
              "    }\n",
              "  }\n",
              "</style>\n",
              "\n",
              "  <script>\n",
              "    async function quickchart(key) {\n",
              "      const quickchartButtonEl =\n",
              "        document.querySelector('#' + key + ' button');\n",
              "      quickchartButtonEl.disabled = true;  // To prevent multiple clicks.\n",
              "      quickchartButtonEl.classList.add('colab-df-spinner');\n",
              "      try {\n",
              "        const charts = await google.colab.kernel.invokeFunction(\n",
              "            'suggestCharts', [key], {});\n",
              "      } catch (error) {\n",
              "        console.error('Error during call to suggestCharts:', error);\n",
              "      }\n",
              "      quickchartButtonEl.classList.remove('colab-df-spinner');\n",
              "      quickchartButtonEl.classList.add('colab-df-quickchart-complete');\n",
              "    }\n",
              "    (() => {\n",
              "      let quickchartButtonEl =\n",
              "        document.querySelector('#df-58d99efa-0068-41f7-83fb-62ee208d4a4b button');\n",
              "      quickchartButtonEl.style.display =\n",
              "        google.colab.kernel.accessAllowed ? 'block' : 'none';\n",
              "    })();\n",
              "  </script>\n",
              "</div>\n",
              "\n",
              "  <div id=\"id_188abfa2-0242-429e-95a9-6d7652cff8b3\">\n",
              "    <style>\n",
              "      .colab-df-generate {\n",
              "        background-color: #E8F0FE;\n",
              "        border: none;\n",
              "        border-radius: 50%;\n",
              "        cursor: pointer;\n",
              "        display: none;\n",
              "        fill: #1967D2;\n",
              "        height: 32px;\n",
              "        padding: 0 0 0 0;\n",
              "        width: 32px;\n",
              "      }\n",
              "\n",
              "      .colab-df-generate:hover {\n",
              "        background-color: #E2EBFA;\n",
              "        box-shadow: 0px 1px 2px rgba(60, 64, 67, 0.3), 0px 1px 3px 1px rgba(60, 64, 67, 0.15);\n",
              "        fill: #174EA6;\n",
              "      }\n",
              "\n",
              "      [theme=dark] .colab-df-generate {\n",
              "        background-color: #3B4455;\n",
              "        fill: #D2E3FC;\n",
              "      }\n",
              "\n",
              "      [theme=dark] .colab-df-generate:hover {\n",
              "        background-color: #434B5C;\n",
              "        box-shadow: 0px 1px 3px 1px rgba(0, 0, 0, 0.15);\n",
              "        filter: drop-shadow(0px 1px 2px rgba(0, 0, 0, 0.3));\n",
              "        fill: #FFFFFF;\n",
              "      }\n",
              "    </style>\n",
              "    <button class=\"colab-df-generate\" onclick=\"generateWithVariable('df_sentiment')\"\n",
              "            title=\"Generate code using this dataframe.\"\n",
              "            style=\"display:none;\">\n",
              "\n",
              "  <svg xmlns=\"http://www.w3.org/2000/svg\" height=\"24px\"viewBox=\"0 0 24 24\"\n",
              "       width=\"24px\">\n",
              "    <path d=\"M7,19H8.4L18.45,9,17,7.55,7,17.6ZM5,21V16.75L18.45,3.32a2,2,0,0,1,2.83,0l1.4,1.43a1.91,1.91,0,0,1,.58,1.4,1.91,1.91,0,0,1-.58,1.4L9.25,21ZM18.45,9,17,7.55Zm-12,3A5.31,5.31,0,0,0,4.9,8.1,5.31,5.31,0,0,0,1,6.5,5.31,5.31,0,0,0,4.9,4.9,5.31,5.31,0,0,0,6.5,1,5.31,5.31,0,0,0,8.1,4.9,5.31,5.31,0,0,0,12,6.5,5.46,5.46,0,0,0,6.5,12Z\"/>\n",
              "  </svg>\n",
              "    </button>\n",
              "    <script>\n",
              "      (() => {\n",
              "      const buttonEl =\n",
              "        document.querySelector('#id_188abfa2-0242-429e-95a9-6d7652cff8b3 button.colab-df-generate');\n",
              "      buttonEl.style.display =\n",
              "        google.colab.kernel.accessAllowed ? 'block' : 'none';\n",
              "\n",
              "      buttonEl.onclick = () => {\n",
              "        google.colab.notebook.generateWithVariable('df_sentiment');\n",
              "      }\n",
              "      })();\n",
              "    </script>\n",
              "  </div>\n",
              "\n",
              "    </div>\n",
              "  </div>\n"
            ],
            "application/vnd.google.colaboratory.intrinsic+json": {
              "type": "dataframe",
              "variable_name": "df_sentiment",
              "summary": "{\n  \"name\": \"df_sentiment\",\n  \"rows\": 10603,\n  \"fields\": [\n    {\n      \"column\": \"Translated_Comment\",\n      \"properties\": {\n        \"dtype\": \"string\",\n        \"num_unique_values\": 10141,\n        \"samples\": [\n          \"again it rains, think the net is not the obstacle\",\n          \"Extraordinary\",\n          \"I am a son\"\n        ],\n        \"semantic_type\": \"\",\n        \"description\": \"\"\n      }\n    },\n    {\n      \"column\": \"neg\",\n      \"properties\": {\n        \"dtype\": \"number\",\n        \"std\": 0.12936043838686587,\n        \"min\": 0.0,\n        \"max\": 1.0,\n        \"num_unique_values\": 484,\n        \"samples\": [\n          0.305,\n          0.04,\n          0.531\n        ],\n        \"semantic_type\": \"\",\n        \"description\": \"\"\n      }\n    },\n    {\n      \"column\": \"neu\",\n      \"properties\": {\n        \"dtype\": \"number\",\n        \"std\": 0.2136223916972385,\n        \"min\": 0.0,\n        \"max\": 1.0,\n        \"num_unique_values\": 654,\n        \"samples\": [\n          0.918,\n          0.577,\n          0.53\n        ],\n        \"semantic_type\": \"\",\n        \"description\": \"\"\n      }\n    },\n    {\n      \"column\": \"pos\",\n      \"properties\": {\n        \"dtype\": \"number\",\n        \"std\": 0.18592787708737948,\n        \"min\": 0.0,\n        \"max\": 1.0,\n        \"num_unique_values\": 576,\n        \"samples\": [\n          0.204,\n          0.087,\n          0.079\n        ],\n        \"semantic_type\": \"\",\n        \"description\": \"\"\n      }\n    },\n    {\n      \"column\": \"compound\",\n      \"properties\": {\n        \"dtype\": \"number\",\n        \"std\": 0.30827112627051,\n        \"min\": -0.9505,\n        \"max\": 0.9637,\n        \"num_unique_values\": 874,\n        \"samples\": [\n          -0.453,\n          -0.5209,\n          0.5842\n        ],\n        \"semantic_type\": \"\",\n        \"description\": \"\"\n      }\n    },\n    {\n      \"column\": \"Sentiment\",\n      \"properties\": {\n        \"dtype\": \"category\",\n        \"num_unique_values\": 3,\n        \"samples\": [\n          \"Neutral\",\n          \"Negative\",\n          \"Positive\"\n        ],\n        \"semantic_type\": \"\",\n        \"description\": \"\"\n      }\n    }\n  ]\n}"
            }
          },
          "metadata": {},
          "execution_count": 10
        }
      ]
    },
    {
      "cell_type": "markdown",
      "source": [
        "## Result\n",
        "df_sentiment"
      ],
      "metadata": {
        "id": "1MBJDcYQk30G"
      }
    },
    {
      "cell_type": "code",
      "source": [
        "analysis_results"
      ],
      "metadata": {
        "colab": {
          "base_uri": "https://localhost:8080/"
        },
        "id": "1lDSiQBBkYqB",
        "outputId": "92633a68-63ab-42cc-aadf-272268809548"
      },
      "execution_count": null,
      "outputs": [
        {
          "output_type": "execute_result",
          "data": {
            "text/plain": [
              "{'Overall Sentiment': 'Positive',\n",
              " 'Positive Count': 3342,\n",
              " 'Negative Count': 1703,\n",
              " 'Neutral Count': 5558,\n",
              " 'Positive Percentage': 31.519381307177213,\n",
              " 'Negative Percentage': 16.06149203055739,\n",
              " 'Neutral Percentage': 52.41912666226539}"
            ]
          },
          "metadata": {},
          "execution_count": 22
        }
      ]
    },
    {
      "cell_type": "code",
      "source": [
        "df_sentiment.to_csv('df_sentiment.csv', index=False)"
      ],
      "metadata": {
        "id": "TLmggCveQXnH"
      },
      "execution_count": 11,
      "outputs": []
    },
    {
      "cell_type": "markdown",
      "source": [
        "# 3. Training ML model"
      ],
      "metadata": {
        "id": "Za73_9bsoLuL"
      }
    },
    {
      "cell_type": "code",
      "source": [
        "#jika diperlukan\n",
        "df_sentiment = pd.read_csv('https://raw.githubusercontent.com/Us9r/starlink-sentiment-analysis/main/df_sentiment.csv')"
      ],
      "metadata": {
        "id": "C_AibVUvPy5d"
      },
      "execution_count": 12,
      "outputs": []
    },
    {
      "cell_type": "code",
      "source": [
        "df_sentiment_selected = df_sentiment[['Translated_Comment', 'Sentiment']]"
      ],
      "metadata": {
        "id": "5VFXNeVQW5VQ"
      },
      "execution_count": 32,
      "outputs": []
    },
    {
      "cell_type": "code",
      "source": [
        "from sklearn.model_selection import train_test_split\n",
        "from sklearn.feature_extraction.text import TfidfVectorizer\n",
        "from sklearn.naive_bayes import MultinomialNB\n",
        "from sklearn.metrics import classification_report\n",
        "\n",
        "# Assuming df_sentiment is your DataFrame with 'Translated_Comment' and 'Sentiment' columns\n",
        "\n",
        "# Prepare the data\n",
        "X = df_sentiment_selected['Translated_Comment']\n",
        "y = df_sentiment_selected['Sentiment']\n",
        "\n",
        "# Split the data into training and testing sets\n",
        "X_train, X_test, y_train, y_test = train_test_split(X, y, test_size=0.2, random_state=42)\n",
        "\n",
        "# Create a TF-IDF vectorizer\n",
        "tfidf_vectorizer = TfidfVectorizer()\n",
        "\n",
        "# Fit and transform the training data\n",
        "X_train_tfidf = tfidf_vectorizer.fit_transform(X_train)\n",
        "\n",
        "# Transform the testing data\n",
        "X_test_tfidf = tfidf_vectorizer.transform(X_test)\n",
        "\n",
        "# Train a Multinomial Naive Bayes classifier\n",
        "naive_bayes_classifier = MultinomialNB()\n",
        "naive_bayes_classifier.fit(X_train_tfidf, y_train)\n",
        "\n",
        "# Make predictions on the test set\n",
        "y_pred = naive_bayes_classifier.predict(X_test_tfidf)\n",
        "\n",
        "# Evaluate the model\n",
        "print(classification_report(y_test, y_pred))\n"
      ],
      "metadata": {
        "colab": {
          "base_uri": "https://localhost:8080/"
        },
        "id": "_71odhzjoLEL",
        "outputId": "cedac1cf-2405-4ac2-9782-237414ff9f39"
      },
      "execution_count": 33,
      "outputs": [
        {
          "output_type": "stream",
          "name": "stdout",
          "text": [
            "              precision    recall  f1-score   support\n",
            "\n",
            "    Negative       0.89      0.11      0.19       321\n",
            "     Neutral       0.73      0.95      0.82      1128\n",
            "    Positive       0.75      0.69      0.72       672\n",
            "\n",
            "    accuracy                           0.74      2121\n",
            "   macro avg       0.79      0.58      0.58      2121\n",
            "weighted avg       0.76      0.74      0.69      2121\n",
            "\n"
          ]
        }
      ]
    },
    {
      "cell_type": "code",
      "source": [
        "# Make predictions on the training set\n",
        "y_train_pred = naive_bayes_classifier.predict(X_train_tfidf)\n",
        "\n",
        "# Evaluate the model on the training set\n",
        "print(classification_report(y_train, y_train_pred))"
      ],
      "metadata": {
        "colab": {
          "base_uri": "https://localhost:8080/"
        },
        "id": "XeXSAUD9Q2Ev",
        "outputId": "6fa512c9-650d-47f7-f1eb-b43e4126d04e"
      },
      "execution_count": 34,
      "outputs": [
        {
          "output_type": "stream",
          "name": "stdout",
          "text": [
            "              precision    recall  f1-score   support\n",
            "\n",
            "    Negative       0.98      0.23      0.37      1382\n",
            "     Neutral       0.79      0.99      0.88      4430\n",
            "    Positive       0.85      0.83      0.84      2670\n",
            "\n",
            "    accuracy                           0.82      8482\n",
            "   macro avg       0.87      0.68      0.70      8482\n",
            "weighted avg       0.84      0.82      0.78      8482\n",
            "\n"
          ]
        }
      ]
    },
    {
      "cell_type": "markdown",
      "source": [
        "Nilai rendah, diputuskan untuk menggunakan model Deep Learning"
      ],
      "metadata": {
        "id": "FJLpQm0lRgEh"
      }
    },
    {
      "cell_type": "markdown",
      "source": [
        "# 4. Deep Learning Model\n",
        "menggunakan LSTM berhasil memperoleh\n",
        "> akurasi training 0.97\n",
        "> akurasi testing 0.86"
      ],
      "metadata": {
        "id": "8Fuhw79cZq7m"
      }
    },
    {
      "cell_type": "code",
      "source": [
        "from sklearn.model_selection import train_test_split\n",
        "from tensorflow.keras.models import Sequential\n",
        "from tensorflow.keras.layers import Embedding, LSTM, Dense\n",
        "from tensorflow.keras.preprocessing.text import Tokenizer\n",
        "from tensorflow.keras.preprocessing.sequence import pad_sequences\n",
        "from sklearn.metrics import classification_report\n",
        "\n",
        "# Prepare the data\n",
        "X = df_sentiment_selected['Translated_Comment']\n",
        "y = df_sentiment_selected['Sentiment']\n",
        "\n",
        "# Convert sentiment labels to numerical values\n",
        "sentiment_mapping = {'Positive': 0, 'Negative': 1, 'Neutral': 2}\n",
        "y = y.map(sentiment_mapping)\n",
        "\n",
        "# Split data\n",
        "X_train, X_test, y_train, y_test = train_test_split(X, y, test_size=0.2, random_state=42)\n",
        "\n",
        "# Tokenize the text data\n",
        "tokenizer = Tokenizer(num_words=5000) # Adjust num_words as needed\n",
        "tokenizer.fit_on_texts(X_train)\n",
        "\n",
        "X_train_seq = tokenizer.texts_to_sequences(X_train)\n",
        "X_test_seq = tokenizer.texts_to_sequences(X_test)\n",
        "\n",
        "# Pad sequences to have the same length\n",
        "max_sequence_length = 100 # Adjust as needed\n",
        "X_train_padded = pad_sequences(X_train_seq, maxlen=max_sequence_length)\n",
        "X_test_padded = pad_sequences(X_test_seq, maxlen=max_sequence_length)\n",
        "\n",
        "# Define the model\n",
        "model = Sequential()\n",
        "model.add(Embedding(5000, 128, input_length=max_sequence_length))\n",
        "model.add(LSTM(64))\n",
        "model.add(Dense(3, activation='softmax')) # 3 output neurons for 3 sentiment classes\n",
        "\n",
        "# Compile the model\n",
        "model.compile(optimizer='adam', loss='sparse_categorical_crossentropy', metrics=['accuracy'])\n",
        "\n",
        "# Train the model\n",
        "model.fit(X_train_padded, y_train, epochs=5, batch_size=32, validation_split=0.2) # Adjust epochs and batch_size as needed\n",
        "\n",
        "# Evaluate the model\n",
        "y_pred_prob = model.predict(X_test_padded)\n",
        "y_pred = y_pred_prob.argmax(axis=1) # Convert probabilities to class labels\n",
        "print(classification_report(y_test, y_pred))\n"
      ],
      "metadata": {
        "colab": {
          "base_uri": "https://localhost:8080/"
        },
        "id": "gnllmk37Uhp6",
        "outputId": "773d07c4-8ee6-4abb-effb-6c9a548ffa7d"
      },
      "execution_count": 37,
      "outputs": [
        {
          "output_type": "stream",
          "name": "stdout",
          "text": [
            "Epoch 1/5\n"
          ]
        },
        {
          "output_type": "stream",
          "name": "stderr",
          "text": [
            "/usr/local/lib/python3.11/dist-packages/keras/src/layers/core/embedding.py:90: UserWarning: Argument `input_length` is deprecated. Just remove it.\n",
            "  warnings.warn(\n"
          ]
        },
        {
          "output_type": "stream",
          "name": "stdout",
          "text": [
            "\u001b[1m213/213\u001b[0m \u001b[32m━━━━━━━━━━━━━━━━━━━━\u001b[0m\u001b[37m\u001b[0m \u001b[1m22s\u001b[0m 88ms/step - accuracy: 0.5794 - loss: 0.9140 - val_accuracy: 0.7778 - val_loss: 0.5780\n",
            "Epoch 2/5\n",
            "\u001b[1m213/213\u001b[0m \u001b[32m━━━━━━━━━━━━━━━━━━━━\u001b[0m\u001b[37m\u001b[0m \u001b[1m19s\u001b[0m 82ms/step - accuracy: 0.8579 - loss: 0.3961 - val_accuracy: 0.8326 - val_loss: 0.4552\n",
            "Epoch 3/5\n",
            "\u001b[1m213/213\u001b[0m \u001b[32m━━━━━━━━━━━━━━━━━━━━\u001b[0m\u001b[37m\u001b[0m \u001b[1m20s\u001b[0m 81ms/step - accuracy: 0.9167 - loss: 0.2592 - val_accuracy: 0.8615 - val_loss: 0.4213\n",
            "Epoch 4/5\n",
            "\u001b[1m213/213\u001b[0m \u001b[32m━━━━━━━━━━━━━━━━━━━━\u001b[0m\u001b[37m\u001b[0m \u001b[1m22s\u001b[0m 86ms/step - accuracy: 0.9663 - loss: 0.1264 - val_accuracy: 0.8456 - val_loss: 0.4767\n",
            "Epoch 5/5\n",
            "\u001b[1m213/213\u001b[0m \u001b[32m━━━━━━━━━━━━━━━━━━━━\u001b[0m\u001b[37m\u001b[0m \u001b[1m19s\u001b[0m 81ms/step - accuracy: 0.9740 - loss: 0.0944 - val_accuracy: 0.8574 - val_loss: 0.5063\n",
            "\u001b[1m67/67\u001b[0m \u001b[32m━━━━━━━━━━━━━━━━━━━━\u001b[0m\u001b[37m\u001b[0m \u001b[1m2s\u001b[0m 22ms/step\n",
            "              precision    recall  f1-score   support\n",
            "\n",
            "           0       0.82      0.88      0.85       672\n",
            "           1       0.70      0.65      0.68       321\n",
            "           2       0.93      0.91      0.92      1128\n",
            "\n",
            "    accuracy                           0.86      2121\n",
            "   macro avg       0.82      0.81      0.82      2121\n",
            "weighted avg       0.86      0.86      0.86      2121\n",
            "\n"
          ]
        }
      ]
    },
    {
      "cell_type": "markdown",
      "source": [
        "Berhasil memperoleh akurasi training di 0.97 dan akurasi testing di 0.86"
      ],
      "metadata": {
        "id": "idYqm1YrZ8dt"
      }
    }
  ]
}